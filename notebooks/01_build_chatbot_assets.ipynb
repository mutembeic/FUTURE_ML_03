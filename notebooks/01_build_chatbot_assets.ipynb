{
 "cells": [
  {
   "cell_type": "markdown",
   "id": "ba607751",
   "metadata": {},
   "source": [
    "### Step 1: Install Required Libraries"
   ]
  },
  {
   "cell_type": "code",
   "execution_count": 1,
   "id": "3feec28d",
   "metadata": {},
   "outputs": [
    {
     "name": "stdout",
     "output_type": "stream",
     "text": [
      "Collecting sentence-transformers\n",
      "  Downloading sentence_transformers-3.2.1-py3-none-any.whl (255 kB)\n",
      "\u001b[K     |████████████████████████████████| 255 kB 240 kB/s eta 0:00:01\n",
      "\u001b[?25hRequirement already satisfied: numpy in /home/charles/anaconda3/envs/learn-env/lib/python3.8/site-packages (1.23.0)\n",
      "Collecting huggingface-hub>=0.20.0\n",
      "  Downloading huggingface_hub-0.35.0-py3-none-any.whl (563 kB)\n",
      "\u001b[K     |████████████████████████████████| 563 kB 2.2 MB/s eta 0:00:01\n",
      "\u001b[?25hCollecting torch>=1.11.0\n",
      "  Downloading torch-2.4.1-cp38-cp38-manylinux1_x86_64.whl (797.1 MB)\n",
      "\u001b[K     |████████████████████████████████| 797.1 MB 13 kB/s  eta 0:00:011   |▎                               | 5.8 MB 2.3 MB/s eta 0:05:43     |▊                               | 18.2 MB 578 kB/s eta 0:22:27     |█                               | 22.8 MB 1.8 MB/s eta 0:07:23     |█▌                              | 37.4 MB 871 kB/s eta 0:14:32     |██▌                             | 63.2 MB 2.6 MB/s eta 0:04:48     |█████▍                          | 135.6 MB 764 kB/s eta 0:14:25     |██████▌                         | 161.4 MB 1.1 MB/s eta 0:09:26     |████████                        | 199.3 MB 2.2 MB/s eta 0:04:38     |█████████                       | 224.0 MB 278 kB/s eta 0:34:22     |█████████▏                      | 229.4 MB 829 kB/s eta 0:11:25     |█████████████                   | 324.4 MB 1.9 MB/s eta 0:04:11     |██████████████▎                 | 357.0 MB 1.5 MB/s eta 0:05:00     |█████████████████▎              | 429.3 MB 1.3 MB/s eta 0:04:54     |██████████████████▊             | 467.2 MB 2.4 MB/s eta 0:02:16     |███████████████████▋            | 489.3 MB 250 kB/s eta 0:20:29     |████████████████████▍           | 508.3 MB 3.0 MB/s eta 0:01:37     |████████████████████▉           | 518.1 MB 914 kB/s eta 0:05:05     |█████████████████████▌          | 536.3 MB 1.6 MB/s eta 0:02:44     |█████████████████████████       | 622.5 MB 1.6 MB/s eta 0:01:48     |█████████████████████████▉      | 644.8 MB 1.0 MB/s eta 0:02:28     |██████████████████████████      | 649.4 MB 1.4 MB/s eta 0:01:50     |██████████████████████████▌     | 661.2 MB 2.1 MB/s eta 0:01:04     |███████████████████████████▌    | 686.3 MB 1.9 MB/s eta 0:00:59\n",
      "\u001b[?25hRequirement already satisfied: Pillow in /home/charles/anaconda3/envs/learn-env/lib/python3.8/site-packages (from sentence-transformers) (7.2.0)\n",
      "\u001b[33mWARNING: Retrying (Retry(total=4, connect=None, read=None, redirect=None, status=None)) after connection broken by 'ProtocolError('Connection aborted.', ConnectionResetError(104, 'Connection reset by peer'))': /simple/transformers/\u001b[0m\n",
      "Collecting transformers<5.0.0,>=4.41.0\n",
      "  Downloading transformers-4.46.3-py3-none-any.whl (10.0 MB)\n",
      "\u001b[K     |████████████████████████████████| 10.0 MB 1.2 MB/s eta 0:00:01\n",
      "\u001b[?25hRequirement already satisfied: scipy in /home/charles/anaconda3/envs/learn-env/lib/python3.8/site-packages (from sentence-transformers) (1.5.2)\n",
      "Requirement already satisfied: tqdm in /home/charles/anaconda3/envs/learn-env/lib/python3.8/site-packages (from sentence-transformers) (4.50.2)\n",
      "Requirement already satisfied: scikit-learn in /home/charles/anaconda3/envs/learn-env/lib/python3.8/site-packages (from sentence-transformers) (0.23.2)\n",
      "Collecting hf-xet<2.0.0,>=1.1.3; platform_machine == \"x86_64\" or platform_machine == \"amd64\" or platform_machine == \"arm64\" or platform_machine == \"aarch64\"\n",
      "  Downloading hf_xet-1.1.10-cp37-abi3-manylinux_2_17_x86_64.manylinux2014_x86_64.whl (3.2 MB)\n",
      "\u001b[K     |████████████████████████████████| 3.2 MB 2.1 MB/s eta 0:00:01\n",
      "\u001b[?25hRequirement already satisfied: packaging>=20.9 in /home/charles/anaconda3/envs/learn-env/lib/python3.8/site-packages (from huggingface-hub>=0.20.0->sentence-transformers) (24.2)\n",
      "Collecting filelock\n",
      "  Downloading filelock-3.16.1-py3-none-any.whl (16 kB)\n",
      "Requirement already satisfied: pyyaml>=5.1 in /home/charles/anaconda3/envs/learn-env/lib/python3.8/site-packages (from huggingface-hub>=0.20.0->sentence-transformers) (5.3.1)\n",
      "Requirement already satisfied: requests in /home/charles/anaconda3/envs/learn-env/lib/python3.8/site-packages (from huggingface-hub>=0.20.0->sentence-transformers) (2.32.4)\n",
      "Requirement already satisfied: typing-extensions>=3.7.4.3 in /home/charles/anaconda3/envs/learn-env/lib/python3.8/site-packages (from huggingface-hub>=0.20.0->sentence-transformers) (4.13.2)\n",
      "Collecting fsspec>=2023.5.0\n",
      "  Downloading fsspec-2025.3.0-py3-none-any.whl (193 kB)\n",
      "\u001b[K     |████████████████████████████████| 193 kB 1.1 MB/s eta 0:00:01\n",
      "\u001b[?25hCollecting nvidia-cusparse-cu12==12.1.0.106; platform_system == \"Linux\" and platform_machine == \"x86_64\"\n",
      "  Downloading nvidia_cusparse_cu12-12.1.0.106-py3-none-manylinux1_x86_64.whl (196.0 MB)\n",
      "\u001b[K     |████████████████████████████████| 196.0 MB 1.2 MB/s eta 0:00:01     |█████████████████████████████   | 177.0 MB 1.1 MB/s eta 0:00:18     |█████████████████████████████▋  | 181.2 MB 3.7 MB/s eta 0:00:04\n",
      "\u001b[?25hRequirement already satisfied: networkx in /home/charles/anaconda3/envs/learn-env/lib/python3.8/site-packages (from torch>=1.11.0->sentence-transformers) (2.5.1)\n",
      "Collecting nvidia-cufft-cu12==11.0.2.54; platform_system == \"Linux\" and platform_machine == \"x86_64\"\n",
      "  Downloading nvidia_cufft_cu12-11.0.2.54-py3-none-manylinux1_x86_64.whl (121.6 MB)\n",
      "\u001b[K     |████████████████████████████████| 121.6 MB 108 kB/s eta 0:00:01    |█████▉                          | 22.0 MB 2.0 MB/s eta 0:00:51     |██████████████████              | 68.4 MB 1.0 MB/s eta 0:00:52     |██████████████████████████▍     | 100.1 MB 3.0 MB/s eta 0:00:08     |██████████████████████████▌     | 100.6 MB 1.3 MB/s eta 0:00:17\n",
      "\u001b[?25hCollecting nvidia-curand-cu12==10.3.2.106; platform_system == \"Linux\" and platform_machine == \"x86_64\"\n",
      "  Downloading nvidia_curand_cu12-10.3.2.106-py3-none-manylinux1_x86_64.whl (56.5 MB)\n",
      "\u001b[K     |████████████████████████████████| 56.5 MB 1.8 MB/s eta 0:00:01     |███████████████████████████████▏| 54.9 MB 115 kB/s eta 0:00:14\n",
      "\u001b[?25hCollecting nvidia-cuda-runtime-cu12==12.1.105; platform_system == \"Linux\" and platform_machine == \"x86_64\"\n",
      "  Downloading nvidia_cuda_runtime_cu12-12.1.105-py3-none-manylinux1_x86_64.whl (823 kB)\n",
      "\u001b[K     |████████████████████████████████| 823 kB 2.3 MB/s eta 0:00:01\n",
      "\u001b[?25hCollecting nvidia-cublas-cu12==12.1.3.1; platform_system == \"Linux\" and platform_machine == \"x86_64\"\n",
      "  Downloading nvidia_cublas_cu12-12.1.3.1-py3-none-manylinux1_x86_64.whl (410.6 MB)\n",
      "\u001b[K     |████████████████████████████████| 410.6 MB 15 kB/s  eta 0:00:01     |██████████▌                     | 134.6 MB 287 kB/s eta 0:16:02     |██████████▌                     | 135.4 MB 288 kB/s eta 0:15:55     |██████████▋                     | 136.2 MB 288 kB/s eta 0:15:53     |█████████████████████           | 268.2 MB 874 kB/s eta 0:02:43\n",
      "\u001b[?25h\u001b[33mWARNING: Retrying (Retry(total=4, connect=None, read=None, redirect=None, status=None)) after connection broken by 'ProtocolError('Connection aborted.', ConnectionResetError(104, 'Connection reset by peer'))': /simple/triton/\u001b[0m\n",
      "Collecting triton==3.0.0; platform_system == \"Linux\" and platform_machine == \"x86_64\" and python_version < \"3.13\"\n",
      "  Downloading triton-3.0.0-1-cp38-cp38-manylinux2014_x86_64.manylinux_2_17_x86_64.whl (209.4 MB)\n",
      "\u001b[K     |████████████████████████████████| 209.4 MB 282 kB/s eta 0:00:01    |███████████▎                    | 73.7 MB 167 kB/s eta 0:13:30     |███████████▋                    | 75.7 MB 633 kB/s eta 0:03:32     |█████████████████████████████▉  | 194.9 MB 3.6 MB/s eta 0:00:04\n",
      "\u001b[?25hCollecting nvidia-nccl-cu12==2.20.5; platform_system == \"Linux\" and platform_machine == \"x86_64\"\n",
      "  Downloading nvidia_nccl_cu12-2.20.5-py3-none-manylinux2014_x86_64.whl (176.2 MB)\n",
      "\u001b[K     |████████████████████████████████| 176.2 MB 1.2 MB/s eta 0:00:01    |███                             | 17.0 MB 2.2 MB/s eta 0:01:14     |█████▌                          | 30.1 MB 117 kB/s eta 0:20:40     |██████████                      | 55.3 MB 40 kB/s eta 0:50:13     |██████████▌                     | 57.7 MB 256 kB/s eta 0:07:43     |██████████▋                     | 58.7 MB 256 kB/s eta 0:07:38     |███████████▏                    | 61.2 MB 776 kB/s eta 0:02:29     |███████████▌                    | 63.3 MB 1.1 MB/s eta 0:01:47     |█████████████▏                  | 72.4 MB 902 kB/s eta 0:01:56     |██████████████▋                 | 80.5 MB 116 kB/s eta 0:13:42     |███████████████                 | 82.0 MB 629 kB/s eta 0:02:30     |███████████████                 | 83.1 MB 1.2 MB/s eta 0:01:20     |███████████████▎                | 84.1 MB 883 kB/s eta 0:01:45     |████████████████                | 88.3 MB 2.4 MB/s eta 0:00:37     |████████████████                | 88.5 MB 2.4 MB/s eta 0:00:37     |████████████████▊               | 92.3 MB 2.7 MB/s eta 0:00:31/s eta 0:00:3192.8 MB 2.7 MB/s eta 0:00:31            | 93.0 MB 2.7 MB/s eta 0:00:31     |█████████████████▏              | 94.8 MB 220 kB/s eta 0:06:10     |█████████████████▎              | 95.3 MB 123 kB/s eta 0:10:55     |██████████████████▍             | 101.3 MB 890 kB/s eta 0:01:25     |████████████████████▋           | 113.4 MB 2.3 MB/s eta 0:00:28��████████████████████▎          | 117.1 MB 119 kB/s eta 0:08:14     |█████████████████████▍          | 117.8 MB 115 kB/s eta 0:08:28     |█████████████████████████▏      | 138.6 MB 306 kB/s eta 0:02:03     |█████████████████████████▏      | 138.7 MB 62 kB/s eta 0:10:05     |█████████████████████████▍      | 139.9 MB 364 kB/s eta 0:01:40     |█████████████████████████▉      | 142.2 MB 518 kB/s eta 0:01:06     |███████████████████████████▋    | 152.0 MB 130 kB/s eta 0:03:07     |███████████████████████████▊    | 152.9 MB 115 kB/s eta 0:03:22     |████████████████████████████▌   | 157.0 MB 181 kB/s eta 0:01:46     |████████████████████████████▌   | 157.2 MB 199 kB/s eta 0:01:36     |████████████████████████████▋   | 157.4 MB 230 kB/s eta 0:01:22     |█████████████████████████████▍  | 162.0 MB 80 kB/s eta 0:02:58     |█████████████████████████████▍  | 162.0 MB 45 kB/s eta 0:05:15     |█████████████████████████████▍  | 162.2 MB 55 kB/s eta 0:04:17     |█████████████████████████████▌  | 162.6 MB 215 kB/s eta 0:01:04\n",
      "\u001b[?25hCollecting nvidia-cudnn-cu12==9.1.0.70; platform_system == \"Linux\" and platform_machine == \"x86_64\"\n",
      "  Downloading nvidia_cudnn_cu12-9.1.0.70-py3-none-manylinux2014_x86_64.whl (664.8 MB)\n",
      "\u001b[K     |████████████████████████████████| 664.8 MB 12 kB/s  eta 0:00:01   |                                | 1.7 MB 164 kB/s eta 1:07:09     |▌                               | 9.3 MB 1.1 MB/s eta 0:09:41     |▉                               | 17.3 MB 409 kB/s eta 0:26:20     |█                               | 19.1 MB 596 kB/s eta 0:18:04     |█▏                              | 24.9 MB 1.7 MB/s eta 0:06:23     |█▌                              | 30.7 MB 62 kB/s eta 2:49:59     |█▌                              | 31.0 MB 126 kB/s eta 1:23:24     |█▌                              | 31.3 MB 202 kB/s eta 0:52:01     |█▌                              | 31.8 MB 201 kB/s eta 0:52:29     |█▌                              | 31.9 MB 211 kB/s eta 0:49:49     |█▌                              | 32.1 MB 265 kB/s eta 0:39:46     |█▋                              | 33.4 MB 593 kB/s eta 0:17:44     |█▋                              | 33.8 MB 593 kB/s eta 0:17:43     |█▊                              | 36.2 MB 1.6 MB/s eta 0:06:22     |█▊                              | 36.4 MB 1.6 MB/s eta 0:06:22     |██▏                             | 44.5 MB 84 kB/s eta 2:02:06     |██▏                             | 46.0 MB 37 kB/s eta 4:35:24     |███                             | 63.3 MB 9.6 MB/s eta 0:01:03     |███▉                            | 79.9 MB 1.7 MB/s eta 0:05:44     |████▎                           | 89.4 MB 288 kB/s eta 0:33:14                    | 89.9 MB 261 kB/s eta 0:36:38     |████▍                           | 90.6 MB 961 kB/s eta 0:09:57     |████▍                           | 90.7 MB 961 kB/s eta 0:09:57     |████▍                           | 92.0 MB 580 kB/s eta 0:16:27     |████▌                           | 92.8 MB 266 kB/s eta 0:35:44     |████▌                           | 93.0 MB 266 kB/s eta 0:35:44     |████▌                           | 93.6 MB 316 kB/s eta 0:30:03     |████▌                           | 93.6 MB 316 kB/s eta 0:30:03     |████▊                           | 97.2 MB 673 kB/s eta 0:14:03     |████▊                           | 98.4 MB 193 kB/s eta 0:48:42     |████▊                           | 98.8 MB 279 kB/s eta 0:33:43     |████▊                           | 99.2 MB 287 kB/s eta 0:32:45     |████▉                           | 99.6 MB 396 kB/s eta 0:23:46     |█████                           | 103.9 MB 1.3 MB/s eta 0:07:16     |█████                           | 104.5 MB 1.8 MB/s eta 0:05:11     |█████                           | 105.1 MB 1.8 MB/s eta 0:05:10     |█████                           | 105.3 MB 1.8 MB/s eta 0:05:101.9 MB/s eta 0:04:51     |█████▎                          | 109.3 MB 2.7 MB/s eta 0:03:27     |█████▌                          | 113.3 MB 1.1 MB/s eta 0:08:21     |█████▌                          | 113.6 MB 1.1 MB/s eta 0:08:21     |█████▊                          | 118.2 MB 199 kB/s eta 0:45:42     |█████▊                          | 119.9 MB 206 kB/s eta 0:43:59     |█████▉                          | 120.4 MB 471 kB/s eta 0:19:16     |██████                          | 123.1 MB 654 kB/s eta 0:13:48     |██████▍                         | 131.7 MB 1.2 MB/s eta 0:07:17     |██████▌                         | 134.0 MB 201 kB/s eta 0:43:56     |██████▌                         | 135.0 MB 128 kB/s eta 1:08:38     |██████▌                         | 135.5 MB 183 kB/s eta 0:48:11     |██████▋                         | 137.2 MB 738 kB/s eta 0:11:54     |██████▊                         | 139.2 MB 629 kB/s eta 0:13:55     |██████▊                         | 139.6 MB 629 kB/s eta 0:13:55     |██████▉                         | 140.9 MB 2.5 MB/s eta 0:03:30     |██████▉                         | 141.1 MB 2.5 MB/s eta 0:03:30     |███████                         | 146.4 MB 844 kB/s eta 0:10:15     |███████▏                        | 149.1 MB 440 kB/s eta 0:19:31     |███████▍                        | 153.7 MB 731 kB/s eta 0:11:39     |███████▍                        | 154.4 MB 1.5 MB/s eta 0:05:41     |███████▍                        | 154.6 MB 1.5 MB/s eta 0:05:41                | 155.5 MB 1.5 MB/s eta 0:05:4005:40     |███████▋                        | 157.6 MB 2.3 MB/s eta 0:03:38     |███████▋                        | 159.1 MB 2.8 MB/s eta 0:02:59     |████████                        | 164.4 MB 228 kB/s eta 0:36:28     |████████▏                       | 168.9 MB 171 kB/s eta 0:48:04     |████████▏                       | 170.1 MB 453 kB/s eta 0:18:11     |█████████                       | 187.2 MB 661 kB/s eta 0:12:03               | 196.2 MB 433 kB/s eta 0:18:01     |█████████▌                      | 197.0 MB 433 kB/s eta 0:17:59           | 197.3 MB 433 kB/s eta 0:17:59     |██████████                      | 207.3 MB 766 kB/s eta 0:09:57     |██████████                      | 208.9 MB 167 kB/s eta 0:45:26     |██████████                      | 209.7 MB 509 kB/s eta 0:14:54     |██████████▏                     | 210.4 MB 458 kB/s eta 0:16:31     |██████████▎                     | 214.1 MB 1.0 MB/s eta 0:07:31     |██████████▍                     | 214.7 MB 1.4 MB/s eta 0:05:27     |██████████▍                     | 215.4 MB 1.4 MB/s eta 0:05:27    |██████████▍                     | 216.5 MB 2.2 MB/s eta 0:03:26     |██████████▋                     | 219.7 MB 5.2 MB/s eta 0:01:26     |██████████▊                     | 222.0 MB 711 kB/s eta 0:10:23     |██████████▉                     | 225.3 MB 348 kB/s eta 0:21:02     |██████████▉                     | 226.2 MB 479 kB/s eta 0:15:16     |███████████                     | 226.6 MB 445 kB/s eta 0:16:24     |███████████                     | 227.2 MB 443 kB/s eta 0:16:26     |███████████                     | 228.2 MB 594 kB/s eta 0:12:14     |███████████                     | 230.5 MB 1.2 MB/s eta 0:06:11     |███████████▎                    | 235.0 MB 145 kB/s eta 0:49:23     |███████████▍                    | 235.8 MB 212 kB/s eta 0:33:43     |████████████                    | 247.2 MB 1.3 MB/s eta 0:05:26     |████████████                    | 248.6 MB 1.3 MB/s eta 0:05:25      | 249.2 MB 1.3 MB/s eta 0:05:24     |████████████                    | 249.7 MB 1.3 MB/s eta 0:05:24     |████████████                    | 250.9 MB 613 kB/s eta 0:11:15     |████████████                    | 251.3 MB 613 kB/s eta 0:11:14     |████████████▏                   | 253.6 MB 237 kB/s eta 0:28:55��████████▎                   | 255.1 MB 237 kB/s eta 0:28:49     |████████████▎                   | 256.0 MB 1.4 MB/s eta 0:04:59��████████▌                   | 258.8 MB 259 kB/s eta 0:26:05     |████████████▌                   | 258.9 MB 259 kB/s eta 0:26:04     |████████████▌                   | 260.0 MB 259 kB/s eta 0:26:00     |████████████▋                   | 261.0 MB 937 kB/s eta 0:07:11     |████████████▋                   | 262.8 MB 363 kB/s eta 0:18:27     |████████████▋                   | 263.0 MB 527 kB/s eta 0:12:43     |████████████▊                   | 264.5 MB 508 kB/s eta 0:13:08     |████████████▊                   | 265.2 MB 524 kB/s eta 0:12:43     |████████████▉                   | 266.5 MB 471 kB/s eta 0:14:05     |█████████████                   | 270.6 MB 2.0 MB/s eta 0:03:21��█████████                   | 270.9 MB 2.0 MB/s eta 0:03:21███                   | 271.1 MB 2.0 MB/s eta 0:03:21        | 271.3 MB 2.0 MB/s eta 0:03:213.0 MB/s eta 0:02:10     |█████████████▎                  | 276.3 MB 3.0 MB/s eta 0:02:09     |█████████████▌                  | 280.2 MB 242 kB/s eta 0:26:25kB/s eta 0:26:24     |█████████████▋                  | 281.8 MB 155 kB/s eta 0:41:08     |█████████████▋                  | 281.9 MB 33 kB/s eta 3:11:15     |█████████████▋                  | 282.0 MB 33 kB/s eta 3:11:14     |█████████████▋                  | 282.2 MB 41 kB/s eta 2:32:41389 kB/s eta 0:16:20438 kB/s eta 0:14:261.3 MB/s eta 0:04:47         | 286.5 MB 1.3 MB/s eta 0:04:47��██▉                  | 286.8 MB 1.3 MB/s eta 0:04:472.4 MB/s eta 0:02:38███▏                 | 294.0 MB 5.2 MB/s eta 0:01:12 MB/s eta 0:01:12��████████▏                 | 294.4 MB 5.2 MB/s eta 0:01:12     |██████████████▎                 | 296.8 MB 971 kB/s eta 0:06:19███▎                 | 297.4 MB 971 kB/s eta 0:06:19     |██████████████▍                 | 298.9 MB 2.0 MB/s eta 0:03:07��████████▌                 | 300.4 MB 119 kB/s eta 0:50:59   | 300.6 MB 119 kB/s eta 0:50:57|██████████████▌                 | 300.8 MB 119 kB/s eta 0:50:55     |██████████████▌                 | 301.8 MB 207 kB/s eta 0:29:12     |██████████████▉                 | 307.8 MB 3.1 MB/s eta 0:01:56     |██████████████▉                 | 309.0 MB 257 kB/s eta 0:22:59████                 | 309.7 MB 257 kB/s eta 0:22:57     |███████████████                 | 310.4 MB 257 kB/s eta 0:22:54     |███████████████▉                | 328.9 MB 920 kB/s eta 0:06:05     |███████████████▉                | 329.9 MB 1.9 MB/s eta 0:03:01     |████████████████▏               | 335.6 MB 1.2 MB/s eta 0:04:30     |████████████████▎               | 338.0 MB 1.3 MB/s eta 0:04:07     |████████████████▎               | 338.3 MB 1.3 MB/s eta 0:04:07     |████████████████▎               | 338.4 MB 1.2 MB/s eta 0:04:22     |████████████████▎               | 338.6 MB 1.2 MB/s eta 0:04:22     |█████████████████▍              | 361.5 MB 1.8 MB/s eta 0:02:53     |██████████████████▋             | 385.8 MB 138 kB/s eta 0:33:37     |██████████████████▊             | 390.0 MB 1.1 MB/s eta 0:04:21     |███████████████████             | 395.7 MB 1.5 MB/s eta 0:03:04     |███████████████████▊            | 410.8 MB 1.3 MB/s eta 0:03:19     |████████████████████▍           | 423.9 MB 1.7 MB/s eta 0:02:26     |█████████████████████▍          | 445.4 MB 510 kB/s eta 0:07:11     |███████████████████████▌        | 487.6 MB 1.9 MB/s eta 0:01:33��████████████████▍       | 507.0 MB 207 kB/s eta 0:12:42��████████▉    | 579.2 MB 201 kB/s eta 0:07:06��████    | 579.5 MB 71 kB/s eta 0:19:49��███████████████████▉   | 598.5 MB 128 kB/s eta 0:08:35     |█████████████████████████████   | 600.3 MB 118 kB/s eta 0:09:03\n",
      "\u001b[?25h\u001b[33mWARNING: Retrying (Retry(total=4, connect=None, read=None, redirect=None, status=None)) after connection broken by 'ProtocolError('Connection aborted.', ConnectionResetError(104, 'Connection reset by peer'))': /simple/sympy/\u001b[0m\n",
      "Collecting sympy\n",
      "  Downloading sympy-1.13.3-py3-none-any.whl (6.2 MB)\n",
      "\u001b[K     |████████████████████████████████| 6.2 MB 1.7 MB/s eta 0:00:01\n",
      "\u001b[?25hCollecting nvidia-cusolver-cu12==11.4.5.107; platform_system == \"Linux\" and platform_machine == \"x86_64\"\n",
      "  Downloading nvidia_cusolver_cu12-11.4.5.107-py3-none-manylinux1_x86_64.whl (124.2 MB)\n",
      "\u001b[K     |████████████████████████████████| 124.2 MB 530 kB/s eta 0:00:01    |███                             | 11.3 MB 2.7 MB/s eta 0:00:42\n",
      "\u001b[?25hCollecting nvidia-nvtx-cu12==12.1.105; platform_system == \"Linux\" and platform_machine == \"x86_64\"\n",
      "  Downloading nvidia_nvtx_cu12-12.1.105-py3-none-manylinux1_x86_64.whl (99 kB)\n",
      "\u001b[K     |████████████████████████████████| 99 kB 679 kB/s eta 0:00:01\n",
      "\u001b[?25hCollecting nvidia-cuda-nvrtc-cu12==12.1.105; platform_system == \"Linux\" and platform_machine == \"x86_64\"\n",
      "  Downloading nvidia_cuda_nvrtc_cu12-12.1.105-py3-none-manylinux1_x86_64.whl (23.7 MB)\n",
      "\u001b[K     |████████████████████████████████| 23.7 MB 515 kB/s eta 0:00:01█████▎                    | 8.3 MB 1.9 MB/s eta 0:00:09\n",
      "\u001b[?25hCollecting nvidia-cuda-cupti-cu12==12.1.105; platform_system == \"Linux\" and platform_machine == \"x86_64\"\n",
      "  Downloading nvidia_cuda_cupti_cu12-12.1.105-py3-none-manylinux1_x86_64.whl (14.1 MB)\n",
      "\u001b[K     |████████████████████████████████| 14.1 MB 1.3 MB/s eta 0:00:01\n",
      "\u001b[?25hRequirement already satisfied: jinja2 in /home/charles/anaconda3/envs/learn-env/lib/python3.8/site-packages (from torch>=1.11.0->sentence-transformers) (3.1.6)\n",
      "Collecting safetensors>=0.4.1\n",
      "  Downloading safetensors-0.5.3-cp38-abi3-manylinux_2_17_x86_64.manylinux2014_x86_64.whl (471 kB)\n",
      "\u001b[K     |████████████████████████████████| 471 kB 1.4 MB/s eta 0:00:01\n",
      "\u001b[?25hRequirement already satisfied: regex!=2019.12.17 in /home/charles/anaconda3/envs/learn-env/lib/python3.8/site-packages (from transformers<5.0.0,>=4.41.0->sentence-transformers) (2020.10.11)\n",
      "Collecting tokenizers<0.21,>=0.20\n",
      "  Downloading tokenizers-0.20.3-cp38-cp38-manylinux_2_17_x86_64.manylinux2014_x86_64.whl (3.0 MB)\n",
      "\u001b[K     |████████████████████████████████| 3.0 MB 2.5 MB/s eta 0:00:01\n",
      "\u001b[?25hRequirement already satisfied: joblib>=0.11 in /home/charles/anaconda3/envs/learn-env/lib/python3.8/site-packages (from scikit-learn->sentence-transformers) (0.17.0)\n",
      "Requirement already satisfied: threadpoolctl>=2.0.0 in /home/charles/anaconda3/envs/learn-env/lib/python3.8/site-packages (from scikit-learn->sentence-transformers) (2.1.0)\n",
      "Requirement already satisfied: urllib3<3,>=1.21.1 in /home/charles/anaconda3/envs/learn-env/lib/python3.8/site-packages (from requests->huggingface-hub>=0.20.0->sentence-transformers) (1.25.10)\n",
      "Requirement already satisfied: certifi>=2017.4.17 in /home/charles/anaconda3/envs/learn-env/lib/python3.8/site-packages (from requests->huggingface-hub>=0.20.0->sentence-transformers) (2024.8.30)\n",
      "Requirement already satisfied: charset_normalizer<4,>=2 in /home/charles/anaconda3/envs/learn-env/lib/python3.8/site-packages (from requests->huggingface-hub>=0.20.0->sentence-transformers) (3.4.3)\n",
      "Requirement already satisfied: idna<4,>=2.5 in /home/charles/anaconda3/envs/learn-env/lib/python3.8/site-packages (from requests->huggingface-hub>=0.20.0->sentence-transformers) (2.10)\n",
      "Collecting nvidia-nvjitlink-cu12\n",
      "  Downloading nvidia_nvjitlink_cu12-12.9.86-py3-none-manylinux2010_x86_64.manylinux_2_12_x86_64.whl (39.7 MB)\n",
      "\u001b[K     |████████████████████████████████| 39.7 MB 372 kB/s eta 0:00:01��████▋                     | 13.2 MB 1.9 MB/s eta 0:00:14\n",
      "\u001b[?25hRequirement already satisfied: decorator<5,>=4.3 in /home/charles/anaconda3/envs/learn-env/lib/python3.8/site-packages (from networkx->torch>=1.11.0->sentence-transformers) (4.4.2)\n",
      "Collecting mpmath<1.4,>=1.1.0\n",
      "  Downloading mpmath-1.3.0-py3-none-any.whl (536 kB)\n",
      "\u001b[K     |████████████████████████████████| 536 kB 1.7 MB/s eta 0:00:01\n",
      "\u001b[?25hRequirement already satisfied: MarkupSafe>=2.0 in /home/charles/anaconda3/envs/learn-env/lib/python3.8/site-packages (from jinja2->torch>=1.11.0->sentence-transformers) (2.1.5)\n",
      "Installing collected packages: hf-xet, filelock, fsspec, huggingface-hub, nvidia-nvjitlink-cu12, nvidia-cusparse-cu12, nvidia-cufft-cu12, nvidia-curand-cu12, nvidia-cuda-runtime-cu12, nvidia-cublas-cu12, triton, nvidia-nccl-cu12, nvidia-cudnn-cu12, mpmath, sympy, nvidia-cusolver-cu12, nvidia-nvtx-cu12, nvidia-cuda-nvrtc-cu12, nvidia-cuda-cupti-cu12, torch, safetensors, tokenizers, transformers, sentence-transformers\n",
      "Successfully installed filelock-3.16.1 fsspec-2025.3.0 hf-xet-1.1.10 huggingface-hub-0.35.0 mpmath-1.3.0 nvidia-cublas-cu12-12.1.3.1 nvidia-cuda-cupti-cu12-12.1.105 nvidia-cuda-nvrtc-cu12-12.1.105 nvidia-cuda-runtime-cu12-12.1.105 nvidia-cudnn-cu12-9.1.0.70 nvidia-cufft-cu12-11.0.2.54 nvidia-curand-cu12-10.3.2.106 nvidia-cusolver-cu12-11.4.5.107 nvidia-cusparse-cu12-12.1.0.106 nvidia-nccl-cu12-2.20.5 nvidia-nvjitlink-cu12-12.9.86 nvidia-nvtx-cu12-12.1.105 safetensors-0.5.3 sentence-transformers-3.2.1 sympy-1.13.3 tokenizers-0.20.3 torch-2.4.1 transformers-4.46.3 triton-3.0.0\n"
     ]
    }
   ],
   "source": [
    "!pip install sentence-transformers numpy"
   ]
  },
  {
   "cell_type": "code",
   "execution_count": 2,
   "id": "d1e5695f",
   "metadata": {},
   "outputs": [],
   "source": [
    "import json\n",
    "import numpy as np\n",
    "from sentence_transformers import SentenceTransformer\n",
    "import os\n",
    "\n",
    "# Define relative paths from the 'notebooks' directory\n",
    "DATA_PATH = '../data/faq_data.json'\n",
    "MODELS_DIR = '../models'\n",
    "EMBEDDINGS_PATH = os.path.join(MODELS_DIR, 'faq_embeddings.npy')\n"
   ]
  },
  {
   "cell_type": "markdown",
   "id": "bc58aaae",
   "metadata": {},
   "source": [
    "### Step 2: Load the Knowledge Base (FAQs)\n"
   ]
  },
  {
   "cell_type": "code",
   "execution_count": 3,
   "id": "ab1c20d6",
   "metadata": {},
   "outputs": [
    {
     "name": "stdout",
     "output_type": "stream",
     "text": [
      "Successfully loaded 14 Q&A pairs from ../data/faq_data.json\n"
     ]
    }
   ],
   "source": [
    "try:\n",
    "    with open(DATA_PATH, 'r') as f:\n",
    "        faq_data = json.load(f)\n",
    "    print(f\"Successfully loaded {len(faq_data)} Q&A pairs from {DATA_PATH}\")\n",
    "except FileNotFoundError:\n",
    "    print(f\"Error: The file {DATA_PATH} was not found. Please make sure it exists.\")\n",
    "    faq_data = []\n"
   ]
  },
  {
   "cell_type": "markdown",
   "id": "d58d3d88",
   "metadata": {},
   "source": [
    "### Step 4: Generate and Save the Embeddings\n",
    "\n",
    "This is the core AI step. We load a powerful pre-trained model and use it to process our questions. The resulting numerical vectors are then saved to a file, which our Streamlit app can load very quickly.\n"
   ]
  },
  {
   "cell_type": "code",
   "execution_count": 4,
   "id": "f96638a8",
   "metadata": {},
   "outputs": [
    {
     "name": "stdout",
     "output_type": "stream",
     "text": [
      "Loading the Sentence Transformer model ('all-MiniLM-L6-v2'). This may take a moment...\n"
     ]
    },
    {
     "name": "stderr",
     "output_type": "stream",
     "text": [
      "Batches: 100%|██████████| 1/1 [00:00<00:00, 19.78it/s]"
     ]
    },
    {
     "name": "stdout",
     "output_type": "stream",
     "text": [
      "Model loaded successfully.\n",
      "Generating embeddings for all questions...\n",
      "\n",
      "--- Process Complete ---\n",
      "Embeddings have been generated and saved to: ../models/faq_embeddings.npy\n",
      "Shape of embeddings array: (14, 384)\n"
     ]
    },
    {
     "name": "stderr",
     "output_type": "stream",
     "text": [
      "\n"
     ]
    }
   ],
   "source": [
    "if faq_data:\n",
    "    # Load the pre-trained model\n",
    "    print(\"Loading the Sentence Transformer model ('all-MiniLM-L6-v2'). This may take a moment...\")\n",
    "    model = SentenceTransformer('all-MiniLM-L6-v2')\n",
    "    print(\"Model loaded successfully.\")\n",
    "\n",
    "    # Extract just the questions to be encoded\n",
    "    faq_questions = [item['question'] for item in faq_data]\n",
    "    \n",
    "    # Generate the embeddings\n",
    "    print(\"Generating embeddings for all questions...\")\n",
    "    question_embeddings = model.encode(faq_questions, show_progress_bar=True)\n",
    "    \n",
    "    # Ensure the models directory exists\n",
    "    if not os.path.exists(MODELS_DIR):\n",
    "        os.makedirs(MODELS_DIR)\n",
    "        print(f\"Created directory: {MODELS_DIR}\")\n",
    "\n",
    "    # Save the embeddings to the .npy file\n",
    "    np.save(EMBEDDINGS_PATH, question_embeddings)\n",
    "    \n",
    "    print(\"\\n--- Process Complete ---\")\n",
    "    print(f\"Embeddings have been generated and saved to: {EMBEDDINGS_PATH}\")\n",
    "    print(f\"Shape of embeddings array: {question_embeddings.shape}\")\n",
    "else:\n",
    "    print(\"Skipping embedding generation because no FAQ data was loaded.\")\n"
   ]
  },
  {
   "cell_type": "code",
   "execution_count": null,
   "id": "c0df8118",
   "metadata": {},
   "outputs": [],
   "source": []
  }
 ],
 "metadata": {
  "kernelspec": {
   "display_name": "learn-env",
   "language": "python",
   "name": "python3"
  },
  "language_info": {
   "codemirror_mode": {
    "name": "ipython",
    "version": 3
   },
   "file_extension": ".py",
   "mimetype": "text/x-python",
   "name": "python",
   "nbconvert_exporter": "python",
   "pygments_lexer": "ipython3",
   "version": "3.8.5"
  }
 },
 "nbformat": 4,
 "nbformat_minor": 5
}
